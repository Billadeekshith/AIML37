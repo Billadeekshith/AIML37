{
  "nbformat": 4,
  "nbformat_minor": 0,
  "metadata": {
    "colab": {
      "provenance": []
    },
    "kernelspec": {
      "name": "python3",
      "display_name": "Python 3"
    },
    "language_info": {
      "name": "python"
    }
  },
  "cells": [
    {
      "cell_type": "code",
      "execution_count": null,
      "metadata": {
        "colab": {
          "base_uri": "https://localhost:8080/"
        },
        "id": "rPfDY1iQ-BqR",
        "outputId": "70fd5a80-e123-4935-d40e-f2d8a2028f5a"
      },
      "outputs": [
        {
          "output_type": "stream",
          "name": "stdout",
          "text": [
            "list =  [1, 2, 3]\n",
            "array =  [1 2 3]\n"
          ]
        },
        {
          "output_type": "execute_result",
          "data": {
            "text/plain": [
              "numpy.ndarray"
            ]
          },
          "metadata": {},
          "execution_count": 3
        }
      ],
      "source": [
        "import numpy as np\n",
        "\n",
        "list1=[1,2,3]\n",
        "\n",
        "array1 = np.array(list1)\n",
        "\n",
        "print(\"list = \",list1)\n",
        "\n",
        "print(\"array = \", array1)\n",
        "\n",
        "type(list1)\n",
        "\n",
        "type(array1)"
      ]
    },
    {
      "cell_type": "code",
      "source": [
        "import numpy as np\n",
        "\n",
        "array1=np.array([10,20,30])\n",
        "array2=np.array([2,2,2])\n",
        "\n",
        "print(\"array2 multiplied by array1: \", array1*array2)\n",
        "\n",
        "print(\"array2 divided by array1: \", array2/array1)\n",
        "\n",
        "print(\"array2 raised to the power of array1: \", array2**array1)\n",
        "\n",
        "print(\"Adding two numpy arrays {array1} and {array2} together:\", array1+array2)"
      ],
      "metadata": {
        "colab": {
          "base_uri": "https://localhost:8080/"
        },
        "id": "oLWZwcFWAaM6",
        "outputId": "adf773eb-79f8-4388-b9c1-ecc20e1cb5f5"
      },
      "execution_count": null,
      "outputs": [
        {
          "output_type": "stream",
          "name": "stdout",
          "text": [
            "array2 multiplied by array1:  [20 40 60]\n",
            "array2 divided by array1:  [0.2        0.1        0.06666667]\n",
            "array2 raised to the power of array1:  [      1024    1048576 1073741824]\n",
            "Adding two numpy arrays {array1} and {array2} together: [12 22 32]\n"
          ]
        }
      ]
    },
    {
      "cell_type": "code",
      "source": [
        "import numpy as np\n",
        "\n",
        "array1=np.array([10,20,30])\n",
        "\n",
        "# sine function\n",
        "\n",
        "print(\"Sine: \", np.sin(array1))\n",
        "\n",
        "# logarithm\n",
        "\n",
        "print(\"Natural logarithm: \",np.log(array1))\n",
        "\n",
        "print(\"Base-10 logarithm: \", np.log10(array1))\n",
        "\n",
        "print(\"Base-2 logarithm: \",np.log2(array1))\n",
        "\n",
        "# Exponential\n",
        "\n",
        "print(\"Exponential: \",np.exp(array1))"
      ],
      "metadata": {
        "colab": {
          "base_uri": "https://localhost:8080/"
        },
        "id": "wPnsgg9fBoDz",
        "outputId": "41874937-bc22-4439-d352-cf60c931c52b"
      },
      "execution_count": null,
      "outputs": [
        {
          "output_type": "stream",
          "name": "stdout",
          "text": [
            "Sine:  [-0.54402111  0.91294525 -0.98803162]\n",
            "Natural logarithm:  [2.30258509 2.99573227 3.40119738]\n",
            "Base-10 logarithm:  [1.         1.30103    1.47712125]\n",
            "Base-2 logarithm:  [3.32192809 4.32192809 4.9068906 ]\n",
            "Exponential:  [2.20264658e+04 4.85165195e+08 1.06864746e+13]\n"
          ]
        }
      ]
    },
    {
      "cell_type": "code",
      "source": [
        "import numpy as np\n",
        "\n",
        "# Sample NumPy arrays\n",
        "array1 = np.array([1, 2, 3, 4])\n",
        "array2 = np.array([5, 6, 7, 8])\n",
        "\n",
        "# Addition\n",
        "result_addition = array1 + array2\n",
        "\n",
        "# Generate textual output\n",
        "text_output = f\"Addition of Two:\\n{array1} + {array2} = {result_addition}\"\n",
        "print(text_output)"
      ],
      "metadata": {
        "colab": {
          "base_uri": "https://localhost:8080/"
        },
        "id": "Y_2doHZFDWx4",
        "outputId": "a27b240b-24cb-4211-f200-f479f67fcca3"
      },
      "execution_count": null,
      "outputs": [
        {
          "output_type": "stream",
          "name": "stdout",
          "text": [
            "Addition of Two:\n",
            "[1 2 3 4] + [5 6 7 8] = [ 6  8 10 12]\n"
          ]
        }
      ]
    },
    {
      "cell_type": "code",
      "source": [
        "import numpy as np\n",
        "\n",
        "# Sample data\n",
        "data = np.array([1, 2, 3, 4])\n",
        "\n",
        "# Trigonometric function: np.sin()\n",
        "sin_result = np.sin(data)\n",
        "print(\"Sin Result:\", sin_result)\n",
        "\n",
        "# Logarithmic function: np.log()\n",
        "log_result = np.log(data)\n",
        "print(\"Natural Log Result:\", log_result)\n",
        "\n",
        "# Logarithmic function base 2: np.log2()\n",
        "log2_result = np.log2(data)\n",
        "print(\"Log Base 2 Result:\", log2_result)\n",
        "\n",
        "# Exponential function: np.exp()\n",
        "exp_result = np.exp(data)\n",
        "print(\"Exponential Result:\", exp_result)"
      ],
      "metadata": {
        "colab": {
          "base_uri": "https://localhost:8080/"
        },
        "id": "Emhz_L30DaAp",
        "outputId": "f96cd5fc-2624-4258-90d6-365bd2958481"
      },
      "execution_count": null,
      "outputs": [
        {
          "output_type": "stream",
          "name": "stdout",
          "text": [
            "Sin Result: [ 0.84147098  0.90929743  0.14112001 -0.7568025 ]\n",
            "Natural Log Result: [0.         0.69314718 1.09861229 1.38629436]\n",
            "Log Base 2 Result: [0.        1.        1.5849625 2.       ]\n",
            "Exponential Result: [ 2.71828183  7.3890561  20.08553692 54.59815003]\n"
          ]
        }
      ]
    },
    {
      "cell_type": "code",
      "source": [
        "# Sample datasets\n",
        "dataset1 = [1, 2, 3, 4]\n",
        "dataset2 = [5, 6, 7, 8]\n",
        "\n",
        "# Multiplication\n",
        "result_multiplication = [a * b for a, b in zip(dataset1, dataset2)]\n",
        "print(\"Multiplication Result:\", result_multiplication)\n",
        "\n",
        "# Division\n",
        "result_division = [a / b for a, b in zip(dataset1, dataset2)]\n",
        "print(\"Division Result:\", result_division)\n",
        "\n",
        "# Power (exponentiation)\n",
        "power_exponent = [a ** b for a, b in zip(dataset1, dataset2)]\n",
        "print(\"Power Result:\", power_exponent)"
      ],
      "metadata": {
        "colab": {
          "base_uri": "https://localhost:8080/"
        },
        "id": "2sHpy6NOEMZ_",
        "outputId": "f1c853de-ceca-4ca8-e550-8d9323d1d4b9"
      },
      "execution_count": null,
      "outputs": [
        {
          "output_type": "stream",
          "name": "stdout",
          "text": [
            "Multiplication Result: [5, 12, 21, 32]\n",
            "Division Result: [0.2, 0.3333333333333333, 0.42857142857142855, 0.5]\n",
            "Power Result: [1, 64, 2187, 65536]\n"
          ]
        }
      ]
    }
  ]
}